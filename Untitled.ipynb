{
 "cells": [
  {
   "cell_type": "code",
   "execution_count": 6,
   "metadata": {},
   "outputs": [
    {
     "name": "stdout",
     "output_type": "stream",
     "text": [
      "12\n",
      "insert 0 5\n",
      "insert 1 10\n",
      "insert 0 6\n",
      "print\n",
      "[6, 5, 10]\n",
      "remove 6\n",
      "append 9\n",
      "append 1\n",
      "sort\n",
      "print\n",
      "[1, 5, 9, 10]\n",
      "pop\n",
      "reverse\n",
      "print\n",
      "[9, 5, 1]\n"
     ]
    }
   ],
   "source": [
    "#!/usr/bin/env python\n",
    "\n",
    "L = []\n",
    "\n",
    "N = int(input())\n",
    "\n",
    "for i in range(0, N):\n",
    "    tokens = input().split()\n",
    "\n",
    "    if tokens[0] == 'insert':\n",
    "        L.insert(int(tokens[1]), int(tokens[2]))\n",
    "    elif tokens[0] == 'print':\n",
    "        print(L)\n",
    "    elif tokens[0] == 'remove':\n",
    "        L.remove(int(tokens[1]))\n",
    "    elif tokens[0] == 'append':\n",
    "        L.append(int(tokens[1]))\n",
    "    elif tokens[0] == 'sort':\n",
    "        L.sort()\n",
    "    elif tokens[0] == 'pop':\n",
    "        L.pop()\n",
    "    elif tokens[0] == 'reverse':\n",
    "        L.reverse()"
   ]
  },
  {
   "cell_type": "code",
   "execution_count": null,
   "metadata": {},
   "outputs": [],
   "source": []
  },
  {
   "cell_type": "code",
   "execution_count": null,
   "metadata": {},
   "outputs": [],
   "source": []
  }
 ],
 "metadata": {
  "kernelspec": {
   "display_name": "Python 3.8.5 64-bit",
   "language": "python",
   "name": "python38564bitbc21aa13782b40148ac14d39499123d2"
  },
  "language_info": {
   "codemirror_mode": {
    "name": "ipython",
    "version": 3
   },
   "file_extension": ".py",
   "mimetype": "text/x-python",
   "name": "python",
   "nbconvert_exporter": "python",
   "pygments_lexer": "ipython3",
   "version": "3.8.5"
  }
 },
 "nbformat": 4,
 "nbformat_minor": 4
}
